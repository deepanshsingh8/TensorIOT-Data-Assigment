{
 "cells": [
  {
   "cell_type": "markdown",
   "id": "acd3cad3",
   "metadata": {},
   "source": [
    "# TensorIOT Data Assignment 2\n",
    "\n",
    "## Submitted by : Deepansh Singh\n",
    "### Email - deepanshsingh8@gmail.com\n",
    "\n",
    "Data Assignment 2\n",
    "\n",
    "·       Download the data files from here - http://jmcauley.ucsd.edu/data/amazon/links.html\n",
    "\n",
    "·       Apache spark tools locally and necessary tools\n",
    "\n",
    "·       Download a review file with a million reviews.\n",
    "\n",
    "·       Using Jupiter notebook create a program to read the million reviews and get the following.\n",
    "\n",
    "·       transform date to MM-DD-YYYY format.\n",
    "\n",
    "·       Save the data into a table (postgres/sql server)\n",
    "\n",
    "·       Save the output as a Parquet file.\n",
    "\n",
    "·       Upload code to Github and complete Readme.md which anyone can understand.\n",
    "\n",
    "·       Send Github link to HR"
   ]
  },
  {
   "cell_type": "markdown",
   "id": "918aba1e",
   "metadata": {},
   "source": [
    "### Method - 1 for reading Data"
   ]
  },
  {
   "cell_type": "code",
   "execution_count": null,
   "id": "92b1d6fc",
   "metadata": {},
   "outputs": [],
   "source": [
    "from pyspark.sql import SparkSession\n",
    "import pandas as pd\n",
    "\n",
    "# Initialize a Spark session\n",
    "spark = SparkSession.builder \\\n",
    "    .master('local[*]') \\\n",
    "    .config(\"spark.driver.memory\", \"15g\") \\\n",
    "    .appName('AmazonReview - 2') \\\n",
    "    .getOrCreate()\n",
    "\n",
    "# Specify the path to your JSON file\n",
    "json_file_path = \"Grocery_and_Gourmet_Food.json\"\n",
    "\n",
    "# Read the JSON file into a Spark DataFrame\n",
    "spark_df = spark.read.json(json_file_path)\n",
    "\n",
    "# Convert the Spark DataFrame to a Pandas DataFrame\n",
    "pandas_df = spark_df.toPandas()\n",
    "\n",
    "# Show the first few rows of the Pandas DataFrame\n",
    "print(pandas_df.head())"
   ]
  },
  {
   "cell_type": "markdown",
   "id": "6d669125",
   "metadata": {},
   "source": [
    "### Method - 2 for reading data"
   ]
  },
  {
   "cell_type": "code",
   "execution_count": null,
   "id": "110d395b",
   "metadata": {},
   "outputs": [],
   "source": [
    "import pandas as pd\n",
    "import gzip\n",
    "import json\n",
    "\n",
    "def parse(path):\n",
    "  g = gzip.open(path, 'rb')\n",
    "  for l in g:\n",
    "    yield json.loads(l)\n",
    "\n",
    "def getDF(path):\n",
    "  i = 0\n",
    "  df = {}\n",
    "  for d in parse(path):\n",
    "    df[i] = d\n",
    "    i += 1\n",
    "  return pd.DataFrame.from_dict(df, orient='index')\n",
    "\n",
    "df = getDF('Grocery_and_Gourmet_Food.json.gz')"
   ]
  },
  {
   "cell_type": "markdown",
   "id": "ab567715",
   "metadata": {},
   "source": [
    "## Exploratory analysis"
   ]
  },
  {
   "cell_type": "code",
   "execution_count": null,
   "id": "2e760dd8",
   "metadata": {},
   "outputs": [],
   "source": [
    "df.head()"
   ]
  },
  {
   "cell_type": "code",
   "execution_count": null,
   "id": "f4d780fc",
   "metadata": {},
   "outputs": [],
   "source": [
    "df.columns"
   ]
  },
  {
   "cell_type": "code",
   "execution_count": null,
   "id": "367fd650",
   "metadata": {},
   "outputs": [],
   "source": [
    "df.shape"
   ]
  },
  {
   "cell_type": "code",
   "execution_count": null,
   "id": "dcdf1537",
   "metadata": {},
   "outputs": [],
   "source": [
    "df.dtypes"
   ]
  },
  {
   "cell_type": "code",
   "execution_count": null,
   "id": "53d7ac9d",
   "metadata": {},
   "outputs": [],
   "source": [
    "df.drop(['vote', 'style', 'image'], axis = 1, inplace = True)"
   ]
  },
  {
   "cell_type": "code",
   "execution_count": null,
   "id": "21db167b",
   "metadata": {},
   "outputs": [],
   "source": [
    "df['asin'].value_counts()"
   ]
  },
  {
   "cell_type": "markdown",
   "id": "33958525",
   "metadata": {},
   "source": [
    "# Converting reviewTime to date MM-DD-YYYY format."
   ]
  },
  {
   "cell_type": "code",
   "execution_count": null,
   "id": "8744c92f",
   "metadata": {},
   "outputs": [],
   "source": [
    "df['reviewDate'] = pd.to_datetime(df['unixReviewTime'], unit='s').dt.strftime('%m-%d-%Y')"
   ]
  },
  {
   "cell_type": "code",
   "execution_count": null,
   "id": "deb5d644",
   "metadata": {},
   "outputs": [],
   "source": [
    "df.drop(['reviewTime', 'unixReviewTime'], axis = 1, inplace = True)"
   ]
  },
  {
   "cell_type": "code",
   "execution_count": null,
   "id": "abeab1ed",
   "metadata": {},
   "outputs": [],
   "source": [
    "import mysql.connector\n",
    "\n",
    "connection = mysql.connector.connect(\n",
    "    user='Deepanshsingh8',\n",
    "    password='B*************4',\n",
    "    host='localhost',\n",
    "    database='TensorIOT'\n",
    ")"
   ]
  },
  {
   "cell_type": "code",
   "execution_count": null,
   "id": "f19a50d4",
   "metadata": {},
   "outputs": [],
   "source": [
    "df.to_sql(name='Groceries', con=connection, if_exists='replace', index=False)"
   ]
  },
  {
   "cell_type": "code",
   "execution_count": null,
   "id": "ef4f03af",
   "metadata": {},
   "outputs": [],
   "source": [
    "connection.commit()\n",
    "connection.close()"
   ]
  },
  {
   "cell_type": "markdown",
   "id": "60bd4708",
   "metadata": {},
   "source": [
    "# Saving to Parquet file\n",
    "## Further Bigram and Trigram analysis - but it is out of scope for this assignment"
   ]
  },
  {
   "cell_type": "code",
   "execution_count": null,
   "id": "8a4e5384",
   "metadata": {},
   "outputs": [],
   "source": [
    "df.to_parquet('Groceries_and_Gourmet_Food-2.parquet', index=False)"
   ]
  },
  {
   "cell_type": "code",
   "execution_count": null,
   "id": "1eddc8a1",
   "metadata": {},
   "outputs": [],
   "source": [
    "df"
   ]
  },
  {
   "cell_type": "code",
   "execution_count": null,
   "id": "26182902",
   "metadata": {},
   "outputs": [],
   "source": []
  }
 ],
 "metadata": {
  "kernelspec": {
   "display_name": "Python 3 (ipykernel)",
   "language": "python",
   "name": "python3"
  },
  "language_info": {
   "codemirror_mode": {
    "name": "ipython",
    "version": 3
   },
   "file_extension": ".py",
   "mimetype": "text/x-python",
   "name": "python",
   "nbconvert_exporter": "python",
   "pygments_lexer": "ipython3",
   "version": "3.11.5"
  }
 },
 "nbformat": 4,
 "nbformat_minor": 5
}
