{
 "cells": [
  {
   "cell_type": "markdown",
   "id": "acd3cad3",
   "metadata": {},
   "source": [
    "# TensorIOT Data Assignment 2\n",
    "\n",
    "## Submitted by : Deepansh Singh\n",
    "### Email - deepanshsingh8@gmail.com\n",
    "\n",
    "Data Assignment 2\n",
    "\n",
    "·       Download the data files from here - http://jmcauley.ucsd.edu/data/amazon/links.html\n",
    "\n",
    "·       Apache spark tools locally and necessary tools\n",
    "\n",
    "·       Download a review file with a million reviews.\n",
    "\n",
    "·       Using Jupiter notebook create a program to read the million reviews and get the following.\n",
    "\n",
    "·       transform date to MM-DD-YYYY format.\n",
    "\n",
    "·       Save the data into a table (postgres/sql server)\n",
    "\n",
    "·       Save the output as a Parquet file.\n",
    "\n",
    "·       Upload code to Github and complete Readme.md which anyone can understand.\n",
    "\n",
    "·       Send Github link to HR"
   ]
  },
  {
   "cell_type": "markdown",
   "id": "918aba1e",
   "metadata": {},
   "source": [
    "### Method - 1 for reading Data"
   ]
  },
  {
   "cell_type": "code",
   "execution_count": null,
   "id": "92b1d6fc",
   "metadata": {},
   "outputs": [],
   "source": [
    "from pyspark.sql import SparkSession\n",
    "import pandas as pd\n",
    "\n",
    "# Initialize a Spark session\n",
    "spark = SparkSession.builder \\\n",
    "    .master('local[*]') \\\n",
    "    .config(\"spark.driver.memory\", \"15g\") \\\n",
    "    .appName('AmazonReview - 2') \\\n",
    "    .getOrCreate()\n",
    "\n",
    "# Specify the path to your JSON file\n",
    "json_file_path = \"Grocery_and_Gourmet_Food.json\"\n",
    "\n",
    "# Read the JSON file into a Spark DataFrame\n",
    "spark_df = spark.read.json(json_file_path)\n",
    "\n",
    "# Convert the Spark DataFrame to a Pandas DataFrame\n",
    "pandas_df = spark_df.toPandas()\n",
    "\n",
    "# Show the first few rows of the Pandas DataFrame\n",
    "print(pandas_df.head())"
   ]
  },
  {
   "cell_type": "markdown",
   "id": "6d669125",
   "metadata": {},
   "source": [
    "### Method - 2 for reading data"
   ]
  },
  {
   "cell_type": "code",
   "execution_count": null,
   "id": "110d395b",
   "metadata": {},
   "outputs": [],
   "source": [
    "import pandas as pd\n",
    "import gzip\n",
    "import json\n",
    "\n",
    "def parse(path):\n",
    "  g = gzip.open(path, 'rb')\n",
    "  for l in g:\n",
    "    yield json.loads(l)\n",
    "\n",
    "def getDF(path):\n",
    "  i = 0\n",
    "  df = {}\n",
    "  for d in parse(path):\n",
    "    df[i] = d\n",
    "    i += 1\n",
    "  return pd.DataFrame.from_dict(df, orient='index')\n",
    "\n",
    "df = getDF('Grocery_and_Gourmet_Food.json.gz')"
   ]
  },
  {
   "cell_type": "markdown",
   "id": "ab567715",
   "metadata": {},
   "source": [
    "## Exploratory analysis"
   ]
  },
  {
   "cell_type": "code",
   "execution_count": null,
   "id": "2e760dd8",
   "metadata": {},
   "outputs": [],
   "source": [
    "df.head()"
   ]
  },
  {
   "cell_type": "code",
   "execution_count": null,
   "id": "f4d780fc",
   "metadata": {},
   "outputs": [],
   "source": [
    "df.columns"
   ]
  },
  {
   "cell_type": "code",
   "execution_count": null,
   "id": "367fd650",
   "metadata": {},
   "outputs": [],
   "source": [
    "df.shape"
   ]
  },
  {
   "cell_type": "code",
   "execution_count": null,
   "id": "dcdf1537",
   "metadata": {},
   "outputs": [],
   "source": [
    "df.dtypes"
   ]
  },
  {
   "cell_type": "code",
   "execution_count": null,
   "id": "53d7ac9d",
   "metadata": {},
   "outputs": [],
   "source": [
    "df.drop(['vote', 'style', 'image'], axis = 1, inplace = True)"
   ]
  },
  {
   "cell_type": "code",
   "execution_count": null,
   "id": "21db167b",
   "metadata": {},
   "outputs": [],
   "source": [
    "df['asin'].value_counts()"
   ]
  },
  {
   "cell_type": "markdown",
   "id": "33958525",
   "metadata": {},
   "source": [
    "# Converting reviewTime to date MM-DD-YYYY format."
   ]
  },
  {
   "cell_type": "code",
   "execution_count": null,
   "id": "8744c92f",
   "metadata": {},
   "outputs": [],
   "source": [
    "df['reviewDate'] = pd.to_datetime(df['unixReviewTime'], unit='s').dt.strftime('%m-%d-%Y')"
   ]
  },
  {
   "cell_type": "code",
   "execution_count": null,
   "id": "deb5d644",
   "metadata": {},
   "outputs": [],
   "source": [
    "df.drop(['reviewTime', 'unixReviewTime'], axis = 1, inplace = True)"
   ]
  },
  {
   "cell_type": "code",
   "execution_count": null,
   "id": "abeab1ed",
   "metadata": {},
   "outputs": [],
   "source": [
    "import mysql.connector\n",
    "\n",
    "connection = mysql.connector.connect(\n",
    "    user='Deepanshsingh8',\n",
    "    password='B*************4',\n",
    "    host='localhost',\n",
    "    database='TensorIOT'\n",
    ")"
   ]
  },
  {
   "cell_type": "code",
   "execution_count": null,
   "id": "f19a50d4",
   "metadata": {},
   "outputs": [],
   "source": [
    "df.to_sql(name='Groceries', con=connection, if_exists='replace', index=False)"
   ]
  },
  {
   "cell_type": "code",
   "execution_count": null,
   "id": "ef4f03af",
   "metadata": {},
   "outputs": [],
   "source": [
    "connection.commit()\n",
    "connection.close()"
   ]
  },
  {
   "cell_type": "markdown",
   "id": "60bd4708",
   "metadata": {},
   "source": [
    "# Saving to Parquet file\n",
    "## Further Bigram and Trigram analysis - but it is out of scope for this assignment"
   ]
  },
  {
   "cell_type": "code",
   "execution_count": 16,
   "id": "8a4e5384",
   "metadata": {},
   "outputs": [],
   "source": [
    "df.to_parquet('Groceries_and_Gourmet_Food-2.parquet', index=False)"
   ]
  },
  {
   "cell_type": "code",
   "execution_count": 17,
   "id": "1eddc8a1",
   "metadata": {},
   "outputs": [
    {
     "data": {
      "text/html": [
       "<div>\n",
       "<style scoped>\n",
       "    .dataframe tbody tr th:only-of-type {\n",
       "        vertical-align: middle;\n",
       "    }\n",
       "\n",
       "    .dataframe tbody tr th {\n",
       "        vertical-align: top;\n",
       "    }\n",
       "\n",
       "    .dataframe thead th {\n",
       "        text-align: right;\n",
       "    }\n",
       "</style>\n",
       "<table border=\"1\" class=\"dataframe\">\n",
       "  <thead>\n",
       "    <tr style=\"text-align: right;\">\n",
       "      <th></th>\n",
       "      <th>overall</th>\n",
       "      <th>verified</th>\n",
       "      <th>reviewerID</th>\n",
       "      <th>asin</th>\n",
       "      <th>reviewerName</th>\n",
       "      <th>reviewText</th>\n",
       "      <th>summary</th>\n",
       "      <th>reviewDate</th>\n",
       "    </tr>\n",
       "  </thead>\n",
       "  <tbody>\n",
       "    <tr>\n",
       "      <th>0</th>\n",
       "      <td>5.0</td>\n",
       "      <td>True</td>\n",
       "      <td>A1QVBUH9E1V6I8</td>\n",
       "      <td>4639725183</td>\n",
       "      <td>Jamshed Mathur</td>\n",
       "      <td>No adverse comment.</td>\n",
       "      <td>Five Stars</td>\n",
       "      <td>11-19-2014</td>\n",
       "    </tr>\n",
       "    <tr>\n",
       "      <th>1</th>\n",
       "      <td>5.0</td>\n",
       "      <td>True</td>\n",
       "      <td>A3GEOILWLK86XM</td>\n",
       "      <td>4639725183</td>\n",
       "      <td>itsjustme</td>\n",
       "      <td>Gift for college student.</td>\n",
       "      <td>Great product.</td>\n",
       "      <td>10-13-2016</td>\n",
       "    </tr>\n",
       "    <tr>\n",
       "      <th>2</th>\n",
       "      <td>5.0</td>\n",
       "      <td>True</td>\n",
       "      <td>A32RD6L701BIGP</td>\n",
       "      <td>4639725183</td>\n",
       "      <td>Krystal Clifton</td>\n",
       "      <td>If you like strong tea, this is for you. It mi...</td>\n",
       "      <td>Strong</td>\n",
       "      <td>11-21-2015</td>\n",
       "    </tr>\n",
       "    <tr>\n",
       "      <th>3</th>\n",
       "      <td>5.0</td>\n",
       "      <td>True</td>\n",
       "      <td>A2UY1O1FBGKIE6</td>\n",
       "      <td>4639725183</td>\n",
       "      <td>U. Kane</td>\n",
       "      <td>Love the tea. The flavor is way better than th...</td>\n",
       "      <td>Great tea</td>\n",
       "      <td>08-12-2015</td>\n",
       "    </tr>\n",
       "    <tr>\n",
       "      <th>4</th>\n",
       "      <td>5.0</td>\n",
       "      <td>True</td>\n",
       "      <td>A3QHVBQYDV7Z6U</td>\n",
       "      <td>4639725183</td>\n",
       "      <td>The Nana</td>\n",
       "      <td>I have searched everywhere until I browsed Ama...</td>\n",
       "      <td>This is the tea I remembered!</td>\n",
       "      <td>05-28-2015</td>\n",
       "    </tr>\n",
       "    <tr>\n",
       "      <th>...</th>\n",
       "      <td>...</td>\n",
       "      <td>...</td>\n",
       "      <td>...</td>\n",
       "      <td>...</td>\n",
       "      <td>...</td>\n",
       "      <td>...</td>\n",
       "      <td>...</td>\n",
       "      <td>...</td>\n",
       "    </tr>\n",
       "    <tr>\n",
       "      <th>1143855</th>\n",
       "      <td>5.0</td>\n",
       "      <td>True</td>\n",
       "      <td>A223YRQH2Z5T1D</td>\n",
       "      <td>B01HJF6FRA</td>\n",
       "      <td>flint5292</td>\n",
       "      <td>As a new vegan, it is sometimes difficult to r...</td>\n",
       "      <td>As a new vegan, it is sometimes difficult to ...</td>\n",
       "      <td>09-08-2017</td>\n",
       "    </tr>\n",
       "    <tr>\n",
       "      <th>1143856</th>\n",
       "      <td>5.0</td>\n",
       "      <td>True</td>\n",
       "      <td>A38GDA4TB9EILT</td>\n",
       "      <td>B01HJF6FRA</td>\n",
       "      <td>Moriah Bolyard</td>\n",
       "      <td>The best thing ever is ordering a product you ...</td>\n",
       "      <td>The best thing ever is ordering a product you ...</td>\n",
       "      <td>08-04-2017</td>\n",
       "    </tr>\n",
       "    <tr>\n",
       "      <th>1143857</th>\n",
       "      <td>5.0</td>\n",
       "      <td>True</td>\n",
       "      <td>A2025PN7HDC5BO</td>\n",
       "      <td>B01HJF6FRA</td>\n",
       "      <td>M.C</td>\n",
       "      <td>I used to love ranch before I became vegan. It...</td>\n",
       "      <td>Just what the vegan ordered!</td>\n",
       "      <td>07-04-2017</td>\n",
       "    </tr>\n",
       "    <tr>\n",
       "      <th>1143858</th>\n",
       "      <td>5.0</td>\n",
       "      <td>True</td>\n",
       "      <td>A1NY7XWC7EPQOA</td>\n",
       "      <td>B01HJF6FRA</td>\n",
       "      <td>Greensboro</td>\n",
       "      <td>I cannot have dairy nor gluten.  This is as cl...</td>\n",
       "      <td>This is as close to Ranch as I will ever be ab...</td>\n",
       "      <td>06-07-2017</td>\n",
       "    </tr>\n",
       "    <tr>\n",
       "      <th>1143859</th>\n",
       "      <td>3.0</td>\n",
       "      <td>True</td>\n",
       "      <td>A1P0X9E6F99J4T</td>\n",
       "      <td>B01HJF6FRA</td>\n",
       "      <td>Qoyllor</td>\n",
       "      <td>Needs improvement to make it taste like real r...</td>\n",
       "      <td>So so</td>\n",
       "      <td>05-20-2017</td>\n",
       "    </tr>\n",
       "  </tbody>\n",
       "</table>\n",
       "<p>1143860 rows × 8 columns</p>\n",
       "</div>"
      ],
      "text/plain": [
       "         overall  verified      reviewerID        asin     reviewerName  \\\n",
       "0            5.0      True  A1QVBUH9E1V6I8  4639725183   Jamshed Mathur   \n",
       "1            5.0      True  A3GEOILWLK86XM  4639725183        itsjustme   \n",
       "2            5.0      True  A32RD6L701BIGP  4639725183  Krystal Clifton   \n",
       "3            5.0      True  A2UY1O1FBGKIE6  4639725183          U. Kane   \n",
       "4            5.0      True  A3QHVBQYDV7Z6U  4639725183         The Nana   \n",
       "...          ...       ...             ...         ...              ...   \n",
       "1143855      5.0      True  A223YRQH2Z5T1D  B01HJF6FRA        flint5292   \n",
       "1143856      5.0      True  A38GDA4TB9EILT  B01HJF6FRA   Moriah Bolyard   \n",
       "1143857      5.0      True  A2025PN7HDC5BO  B01HJF6FRA              M.C   \n",
       "1143858      5.0      True  A1NY7XWC7EPQOA  B01HJF6FRA       Greensboro   \n",
       "1143859      3.0      True  A1P0X9E6F99J4T  B01HJF6FRA          Qoyllor   \n",
       "\n",
       "                                                reviewText  \\\n",
       "0                                      No adverse comment.   \n",
       "1                                Gift for college student.   \n",
       "2        If you like strong tea, this is for you. It mi...   \n",
       "3        Love the tea. The flavor is way better than th...   \n",
       "4        I have searched everywhere until I browsed Ama...   \n",
       "...                                                    ...   \n",
       "1143855  As a new vegan, it is sometimes difficult to r...   \n",
       "1143856  The best thing ever is ordering a product you ...   \n",
       "1143857  I used to love ranch before I became vegan. It...   \n",
       "1143858  I cannot have dairy nor gluten.  This is as cl...   \n",
       "1143859  Needs improvement to make it taste like real r...   \n",
       "\n",
       "                                                   summary  reviewDate  \n",
       "0                                               Five Stars  11-19-2014  \n",
       "1                                           Great product.  10-13-2016  \n",
       "2                                                   Strong  11-21-2015  \n",
       "3                                                Great tea  08-12-2015  \n",
       "4                            This is the tea I remembered!  05-28-2015  \n",
       "...                                                    ...         ...  \n",
       "1143855   As a new vegan, it is sometimes difficult to ...  09-08-2017  \n",
       "1143856  The best thing ever is ordering a product you ...  08-04-2017  \n",
       "1143857                       Just what the vegan ordered!  07-04-2017  \n",
       "1143858  This is as close to Ranch as I will ever be ab...  06-07-2017  \n",
       "1143859                                              So so  05-20-2017  \n",
       "\n",
       "[1143860 rows x 8 columns]"
      ]
     },
     "execution_count": 17,
     "metadata": {},
     "output_type": "execute_result"
    }
   ],
   "source": [
    "df"
   ]
  },
  {
   "cell_type": "code",
   "execution_count": null,
   "id": "26182902",
   "metadata": {},
   "outputs": [],
   "source": []
  }
 ],
 "metadata": {
  "kernelspec": {
   "display_name": "Python 3 (ipykernel)",
   "language": "python",
   "name": "python3"
  },
  "language_info": {
   "codemirror_mode": {
    "name": "ipython",
    "version": 3
   },
   "file_extension": ".py",
   "mimetype": "text/x-python",
   "name": "python",
   "nbconvert_exporter": "python",
   "pygments_lexer": "ipython3",
   "version": "3.11.5"
  }
 },
 "nbformat": 4,
 "nbformat_minor": 5
}
