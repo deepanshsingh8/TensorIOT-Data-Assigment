{
 "cells": [
  {
   "cell_type": "markdown",
   "id": "afa6fa70",
   "metadata": {},
   "source": [
    "# TensorIOT Data Assignment 1\n",
    "\n",
    "## Submitted by : Deepansh Singh\n",
    "### Email - deepanshsingh8@gmail.com\n",
    "\n",
    "Data Assignment 1\n",
    "\n",
    "·         Download the data files from here - http://jmcauley.ucsd.edu/data/amazon/links.html\n",
    "\n",
    "·         Apache spark tools locally and necessary tools\n",
    "\n",
    "·         Download a review file with a million reviews.\n",
    "\n",
    "·         Using Jupyter notebook create a program to read the million reviews and get the following.\n",
    "\n",
    "·         Item having the least rating.\n",
    "\n",
    "·         Item having most rating.\n",
    "\n",
    "·         Item having the longest reviews.\n",
    "\n",
    "·         Transform: change the date MM-DD-YYYY format.\n",
    "\n",
    "·         Show a desired data frame operation which you learnt recently.\n",
    "\n",
    "·         Convert the whole file into Parquet file after transforming.\n",
    "\n",
    "·         Upload code to GitHub and complete Readme.md which anyone can understand.\n",
    "\n",
    "·         Send GitHub link to HR."
   ]
  },
  {
   "cell_type": "markdown",
   "id": "5196ad34",
   "metadata": {},
   "source": [
    "### Method - 1 for reading Data"
   ]
  },
  {
   "cell_type": "code",
   "execution_count": null,
   "id": "3c958eae",
   "metadata": {},
   "outputs": [],
   "source": [
    "from pyspark.sql import SparkSession\n",
    "import pandas as pd\n",
    "\n",
    "# Initialize a Spark session\n",
    "spark = SparkSession.builder \\\n",
    "    .master('local[*]') \\\n",
    "    .config(\"spark.driver.memory\", \"15g\") \\\n",
    "    .appName('AmazonReview') \\\n",
    "    .getOrCreate()\n",
    "\n",
    "# Specify the path to your JSON file\n",
    "json_file_path = \"Grocery_and_Gourmet_Food.json\"\n",
    "\n",
    "# Read the JSON file into a Spark DataFrame\n",
    "spark_df = spark.read.json(json_file_path)\n",
    "\n",
    "# Convert the Spark DataFrame to a Pandas DataFrame\n",
    "pandas_df = spark_df.toPandas()\n",
    "\n",
    "# Show the first few rows of the Pandas DataFrame\n",
    "print(pandas_df.head())"
   ]
  },
  {
   "cell_type": "markdown",
   "id": "633d57e3",
   "metadata": {},
   "source": [
    "### Method - 2 for reading data"
   ]
  },
  {
   "cell_type": "code",
   "execution_count": null,
   "id": "9d047a64",
   "metadata": {},
   "outputs": [],
   "source": [
    "import pandas as pd\n",
    "import gzip\n",
    "import json\n",
    "\n",
    "def parse(path):\n",
    "  g = gzip.open(path, 'rb')\n",
    "  for l in g:\n",
    "    yield json.loads(l)\n",
    "\n",
    "def getDF(path):\n",
    "  i = 0\n",
    "  df = {}\n",
    "  for d in parse(path):\n",
    "    df[i] = d\n",
    "    i += 1\n",
    "  return pd.DataFrame.from_dict(df, orient='index')\n",
    "\n",
    "df = getDF('Grocery_and_Gourmet_Food.json.gz')"
   ]
  },
  {
   "cell_type": "markdown",
   "id": "f2dba74b",
   "metadata": {},
   "source": [
    "## Exploratory analysis"
   ]
  },
  {
   "cell_type": "code",
   "execution_count": null,
   "id": "fbd891a9",
   "metadata": {},
   "outputs": [],
   "source": [
    "df.head()"
   ]
  },
  {
   "cell_type": "code",
   "execution_count": null,
   "id": "1fa3ecb9",
   "metadata": {},
   "outputs": [],
   "source": [
    "df.columns"
   ]
  },
  {
   "cell_type": "code",
   "execution_count": null,
   "id": "54e5dbc2",
   "metadata": {},
   "outputs": [],
   "source": [
    "df.shape"
   ]
  },
  {
   "cell_type": "code",
   "execution_count": null,
   "id": "26a0d290",
   "metadata": {},
   "outputs": [],
   "source": [
    "df.dtypes"
   ]
  },
  {
   "cell_type": "code",
   "execution_count": null,
   "id": "e9ff989d",
   "metadata": {},
   "outputs": [],
   "source": [
    "df.drop(['vote', 'style', 'image'], axis = 1, inplace = True)"
   ]
  },
  {
   "cell_type": "code",
   "execution_count": null,
   "id": "a5813aef",
   "metadata": {},
   "outputs": [],
   "source": [
    "df['asin'].value_counts()"
   ]
  },
  {
   "cell_type": "markdown",
   "id": "da408d11",
   "metadata": {},
   "source": [
    "#  Item having the least rating"
   ]
  },
  {
   "cell_type": "code",
   "execution_count": null,
   "id": "06e98f11",
   "metadata": {},
   "outputs": [],
   "source": [
    "Average_ratings = df.groupby(['asin'])['overall'].mean().reset_index()"
   ]
  },
  {
   "cell_type": "code",
   "execution_count": null,
   "id": "d4ab2540",
   "metadata": {},
   "outputs": [],
   "source": [
    "least_rated_item = df.loc[df['overall'].idxmin()]\n",
    "least_rated_item"
   ]
  },
  {
   "cell_type": "code",
   "execution_count": null,
   "id": "35332fdf",
   "metadata": {},
   "outputs": [],
   "source": [
    "least_rated_items = Average_ratings.sort_values(['overall', 'asin'], ascending = [True, True]).rename(columns = {'asin':'ProductID', 'overall': 'AverageRating'})"
   ]
  },
  {
   "cell_type": "code",
   "execution_count": null,
   "id": "9e9c9758",
   "metadata": {},
   "outputs": [],
   "source": [
    "# Top 5 least rated items\n",
    "least_rated_items[:5]"
   ]
  },
  {
   "cell_type": "markdown",
   "id": "c8229212",
   "metadata": {},
   "source": [
    "#  Item having the Highest rating"
   ]
  },
  {
   "cell_type": "code",
   "execution_count": null,
   "id": "d9e49334",
   "metadata": {
    "scrolled": true
   },
   "outputs": [],
   "source": [
    "most_rated_item = df.loc[df['overall'].idxmax()]\n",
    "most_rated_item"
   ]
  },
  {
   "cell_type": "code",
   "execution_count": null,
   "id": "3c87b01f",
   "metadata": {},
   "outputs": [],
   "source": [
    "#using the Average_ratings calculated above to display the names\n",
    "highest_rated_items = Average_ratings.sort_values(['overall', 'asin'], ascending = [False, True]).rename(columns = {'asin':'ProductID', 'overall': 'AverageRating'})"
   ]
  },
  {
   "cell_type": "code",
   "execution_count": null,
   "id": "c94975ac",
   "metadata": {
    "scrolled": false
   },
   "outputs": [],
   "source": [
    "# Top 5 highest rated items\n",
    "highest_rated_items[:5]"
   ]
  },
  {
   "cell_type": "markdown",
   "id": "ff808349",
   "metadata": {},
   "source": [
    "# Item having longest Review"
   ]
  },
  {
   "cell_type": "code",
   "execution_count": null,
   "id": "087f34a7",
   "metadata": {
    "scrolled": true
   },
   "outputs": [],
   "source": [
    "df['stringreview'] = df['reviewText'].astype(str)"
   ]
  },
  {
   "cell_type": "code",
   "execution_count": null,
   "id": "79cd32bd",
   "metadata": {
    "scrolled": true
   },
   "outputs": [],
   "source": [
    "df['stringreview'].astype(str)"
   ]
  },
  {
   "cell_type": "code",
   "execution_count": null,
   "id": "3006bde8",
   "metadata": {},
   "outputs": [],
   "source": [
    "index_longest_review = df['reviewText'].astype(str).apply(len).idxmax()"
   ]
  },
  {
   "cell_type": "code",
   "execution_count": null,
   "id": "9b3ee533",
   "metadata": {},
   "outputs": [],
   "source": [
    "#Item with details having longest review\n",
    "item_with_longest_review = df.loc[index_longest_review]\n",
    "item_with_longest_review"
   ]
  },
  {
   "cell_type": "code",
   "execution_count": null,
   "id": "b25dc905",
   "metadata": {},
   "outputs": [],
   "source": [
    "length = len(item_with_longest_review['stringreview'])\n",
    "#Length of the review\n",
    "length"
   ]
  },
  {
   "cell_type": "markdown",
   "id": "dd429165",
   "metadata": {},
   "source": [
    "# Converting reviewTime to date MM-DD-YYYY format."
   ]
  },
  {
   "cell_type": "code",
   "execution_count": null,
   "id": "e768a156",
   "metadata": {},
   "outputs": [],
   "source": [
    "df['reviewDate'] = pd.to_datetime(df['unixReviewTime'], unit='s').dt.strftime('%m-%d-%Y')"
   ]
  },
  {
   "cell_type": "code",
   "execution_count": null,
   "id": "1fffaf76",
   "metadata": {},
   "outputs": [],
   "source": [
    "df.drop(['reviewTime', 'unixReviewTime', 'reviewText'], axis = 1, inplace = True)"
   ]
  },
  {
   "cell_type": "code",
   "execution_count": null,
   "id": "3a139eab",
   "metadata": {},
   "outputs": [],
   "source": [
    "df = df.rename(columns = {'stringreview':'Review'})"
   ]
  },
  {
   "cell_type": "markdown",
   "id": "09e4a16f",
   "metadata": {},
   "source": [
    " # Show a desired data frame operation which you learnt recently."
   ]
  },
  {
   "cell_type": "code",
   "execution_count": null,
   "id": "8935d031",
   "metadata": {},
   "outputs": [],
   "source": [
    "print(' '.join(df['Review'].tolist()[:2000]))"
   ]
  },
  {
   "cell_type": "code",
   "execution_count": null,
   "id": "0052f389",
   "metadata": {},
   "outputs": [],
   "source": [
    "!pip install contractions\n",
    "import contractions\n",
    "def cont_to_exp(x):\n",
    "    if type(x) is str:\n",
    "        x = x.replace('\\\\','')\n",
    "        x = x.replace('...','')\n",
    "        x = x.replace(' - ', '')\n",
    "        x = x.replace('    ', '')\n",
    "        x = contractions.fix(x)\n",
    "        return x\n",
    "    else:\n",
    "        return x"
   ]
  },
  {
   "cell_type": "code",
   "execution_count": null,
   "id": "4051b2e4",
   "metadata": {},
   "outputs": [],
   "source": [
    "df['Review'] = df['Review'].apply(lambda x: cont_to_exp(x))"
   ]
  },
  {
   "cell_type": "code",
   "execution_count": null,
   "id": "e928cbb9",
   "metadata": {},
   "outputs": [],
   "source": [
    "print(' '.join(df['Review'].tolist()[:1000]))"
   ]
  },
  {
   "cell_type": "code",
   "execution_count": null,
   "id": "b9dd4206",
   "metadata": {},
   "outputs": [],
   "source": [
    "# Feature Engineering\n",
    "!pip install TextBlob\n",
    "from textblob import TextBlob\n",
    "\n",
    "## Uses prebuilt library to calculate polarity of sentiment\n",
    "df['polarity'] = df['Review'].apply(lambda x: TextBlob(x).sentiment.polarity)\n",
    "df.head()"
   ]
  },
  {
   "cell_type": "code",
   "execution_count": null,
   "id": "b963a2bf",
   "metadata": {},
   "outputs": [],
   "source": [
    "## Gives the number of characters in the narrative\n",
    "df['Character_len'] = df['Review'].apply(lambda x: len(x))\n",
    "\n",
    "## Gives the length of the narrative - total words\n",
    "df['Narrative_len'] = df['Review'].apply(lambda x: len(x.split()))"
   ]
  },
  {
   "cell_type": "code",
   "execution_count": null,
   "id": "442844eb",
   "metadata": {},
   "outputs": [],
   "source": [
    "df.head()"
   ]
  },
  {
   "cell_type": "code",
   "execution_count": null,
   "id": "5363990f",
   "metadata": {},
   "outputs": [],
   "source": [
    "##To avoid spaces in the text, we calculate the word length this way\n",
    "def avg_word_len(x):\n",
    "    words = x.split()\n",
    "    if len(words) != 0:\n",
    "        word_len = 0\n",
    "        for word in words:\n",
    "            word_len = word_len + len(word)\n",
    "        return word_len/len(words)"
   ]
  },
  {
   "cell_type": "code",
   "execution_count": null,
   "id": "6f0489a2",
   "metadata": {},
   "outputs": [],
   "source": [
    "df['avg_word_len'] = df['Review'].apply(lambda x: avg_word_len(x))\n",
    "df.head()"
   ]
  },
  {
   "cell_type": "markdown",
   "id": "87bf4ac1",
   "metadata": {},
   "source": [
    "# Distribution of Sentiment Polarity"
   ]
  },
  {
   "cell_type": "code",
   "execution_count": null,
   "id": "ded08698",
   "metadata": {},
   "outputs": [],
   "source": [
    "!pip install cufflinks"
   ]
  },
  {
   "cell_type": "code",
   "execution_count": null,
   "id": "4fa7dc20",
   "metadata": {},
   "outputs": [],
   "source": [
    "import numpy as np\n",
    "import matplotlib.pyplot as plt\n",
    "import seaborn as sns\n",
    "import plotly as py\n",
    "import cufflinks as cf\n",
    "from plotly.offline import iplot\n",
    "%matplotlib inline"
   ]
  },
  {
   "cell_type": "code",
   "execution_count": null,
   "id": "2d323935",
   "metadata": {},
   "outputs": [],
   "source": [
    "py.offline.init_notebook_mode(connected=True)\n",
    "cf.go_offline()"
   ]
  },
  {
   "cell_type": "code",
   "execution_count": null,
   "id": "949e0154",
   "metadata": {},
   "outputs": [],
   "source": [
    "df['polarity'].iplot(kind = 'hist', colors = 'red', bins = 20,title = 'Sentiment Polarity Distribution')"
   ]
  },
  {
   "cell_type": "markdown",
   "id": "f406b3ce",
   "metadata": {},
   "source": [
    "# Distribution of Narrative Length and Character Length"
   ]
  },
  {
   "cell_type": "code",
   "execution_count": null,
   "id": "1172bb3f",
   "metadata": {},
   "outputs": [],
   "source": [
    "df['Character_len'].iplot(kind = \"hist\",bins = 50, colors = 'red', xTitle = \"Character Length in Narrative\", yTitle = \"Count\", title = \"Narrative Text Character Distribution\")"
   ]
  },
  {
   "cell_type": "code",
   "execution_count": null,
   "id": "2f316cb5",
   "metadata": {},
   "outputs": [],
   "source": [
    "df['Narrative_len'].iplot(kind = \"hist\",bins = 50, colors = 'red', xTitle = \"Narrative Length\", yTitle = \"Count\", title = \"Narrative Length Distribution\")"
   ]
  },
  {
   "cell_type": "code",
   "execution_count": null,
   "id": "10186e10",
   "metadata": {},
   "outputs": [],
   "source": [
    "df['avg_word_len'].iplot(kind = \"hist\", colors = 'red', xTitle = \"Avg Word Length\", bins = 50, yTitle = \"Count\", title = \"Narrative Text Length Avg Word Distribution\")"
   ]
  },
  {
   "cell_type": "markdown",
   "id": "e104fc7a",
   "metadata": {},
   "source": [
    "# Saving to Parquet file\n",
    "## Further Bigram and Trigram analysis - but it is out of scope for this assignment"
   ]
  },
  {
   "cell_type": "code",
   "execution_count": null,
   "id": "bbbc0a7f",
   "metadata": {},
   "outputs": [],
   "source": [
    "df.to_parquet('Groceries_and_Gourmet_Food.parquet', index=False)"
   ]
  },
  {
   "cell_type": "code",
   "execution_count": null,
   "id": "3f0b8292",
   "metadata": {},
   "outputs": [],
   "source": [
    "df"
   ]
  },
  {
   "cell_type": "code",
   "execution_count": null,
   "id": "bdb30d95",
   "metadata": {},
   "outputs": [],
   "source": []
  }
 ],
 "metadata": {
  "kernelspec": {
   "display_name": "Python 3 (ipykernel)",
   "language": "python",
   "name": "python3"
  },
  "language_info": {
   "codemirror_mode": {
    "name": "ipython",
    "version": 3
   },
   "file_extension": ".py",
   "mimetype": "text/x-python",
   "name": "python",
   "nbconvert_exporter": "python",
   "pygments_lexer": "ipython3",
   "version": "3.11.5"
  }
 },
 "nbformat": 4,
 "nbformat_minor": 5
}
